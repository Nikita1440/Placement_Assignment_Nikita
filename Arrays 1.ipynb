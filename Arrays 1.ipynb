{
 "cells": [
  {
   "cell_type": "markdown",
   "id": "6fa332a6",
   "metadata": {},
   "source": [
    "# Question 1\n",
    "💡 **Q1.** Given an array of integers nums and an integer target, return indices of the two numbers such that they add up to target.\n",
    "\n",
    "You may assume that each input would have exactly one solution, and you may not use the same element twice.\n",
    "\n",
    "You can return the answer in any order.\n",
    "\n",
    "**Example:**\n",
    "Input: nums = [2,7,11,15], target = 9\n",
    "Output0 [0,1]\n",
    "\n",
    "**Explanation:** Because nums[0] + nums[1] == 9, we return [0, 1][\n",
    "\n",
    "</aside>"
   ]
  },
  {
   "cell_type": "code",
   "execution_count": 1,
   "id": "80ae2387",
   "metadata": {},
   "outputs": [],
   "source": [
    "def two_sum(nums, target):\n",
    "    num_dict = {}\n",
    "    for i, num in enumerate(nums):\n",
    "        complement = target - num\n",
    "        if complement in num_dict:\n",
    "            return [num_dict[complement], i]\n",
    "        num_dict[num] = i\n",
    "    return []"
   ]
  },
  {
   "cell_type": "code",
   "execution_count": 2,
   "id": "d19e7ca1",
   "metadata": {},
   "outputs": [
    {
     "name": "stdout",
     "output_type": "stream",
     "text": [
      "[0, 1]\n"
     ]
    }
   ],
   "source": [
    "# Example usage\n",
    "nums = [2, 7, 11, 15]\n",
    "target = 9\n",
    "result = two_sum(nums, target)\n",
    "print(result)"
   ]
  },
  {
   "cell_type": "code",
   "execution_count": 3,
   "id": "19991403",
   "metadata": {},
   "outputs": [
    {
     "name": "stdout",
     "output_type": "stream",
     "text": [
      "[1, 2]\n"
     ]
    }
   ],
   "source": [
    "# Example usage 2\n",
    "nums = [9,2,4,5,7,8]\n",
    "target = 6\n",
    "result = two_sum(nums, target)\n",
    "print(result)"
   ]
  },
  {
   "cell_type": "markdown",
   "id": "3aa66349",
   "metadata": {},
   "source": [
    "# Question 2\n",
    "💡 **Q2.** Given an integer array nums and an integer val, remove all occurrences of val in nums in-place. The order of the elements may be changed. Then return the number of elements in nums which are not equal to val.\n",
    "\n",
    "Consider the number of elements in nums which are not equal to val be k, to get accepted, you need to do the following things:\n",
    "\n",
    "- Change the array nums such that the first k elements of nums contain the elements which are not equal to val. The remaining elements of nums are not important as well as the size of nums.\n",
    "- Return k.\n",
    "\n",
    "**Example :**\n",
    "Input: nums = [3,2,2,3], val = 3\n",
    "Output: 2, nums = [2,2,_*,_*]\n",
    "\n",
    "**Explanation:** Your function should return k = 2, with the first two elements of nums being 2. It does not matter what you leave beyond the returned k (hence they are underscores)[\n",
    "\n",
    "</aside>\n",
    "\n",
    "\n",
    "The given question asks us to remove all occurrences of a given value (val) from an integer array (nums) in-place. In addition, we need to modify the array such that the first k elements contain the elements that are not equal to val. The order of the elements can be changed.\n",
    "\n",
    "To solve this, we can use a two-pointer approach. We'll iterate through the array with two pointers: i to traverse the array and k to keep track of the number of elements that are not equal to val. Whenever we encounter a value that is not equal to val, we move it to the position k and increment k. Finally, we return k as the result.\n",
    "\n",
    "Here's the code that implements this approach in Python:"
   ]
  },
  {
   "cell_type": "code",
   "execution_count": 4,
   "id": "1520ca90",
   "metadata": {},
   "outputs": [],
   "source": [
    "def remove_element(nums, val):\n",
    "    k = 0  # Number of elements not equal to val\n",
    "    for i in range(len(nums)):\n",
    "        if nums[i] != val:\n",
    "            nums[k] = nums[i]\n",
    "            k += 1\n",
    "    return k"
   ]
  },
  {
   "cell_type": "code",
   "execution_count": 5,
   "id": "3364268a",
   "metadata": {},
   "outputs": [
    {
     "name": "stdout",
     "output_type": "stream",
     "text": [
      "k = 2\n",
      "nums = [2, 2]__\n"
     ]
    }
   ],
   "source": [
    "# Example usage\n",
    "nums = [3, 2, 2, 3]\n",
    "val = 3\n",
    "result = remove_element(nums, val)\n",
    "print(\"k =\", result)\n",
    "print(\"nums =\", nums[:result], end='')\n",
    "print(\"_\" * (len(nums) - result))"
   ]
  },
  {
   "cell_type": "code",
   "execution_count": 11,
   "id": "1df461ed",
   "metadata": {},
   "outputs": [
    {
     "name": "stdout",
     "output_type": "stream",
     "text": [
      "k = 7\n",
      "nums = [4, 5, 8, 9, 2, 3, 6]_\n"
     ]
    }
   ],
   "source": [
    "# Example usage\n",
    "nums = [4,5,1,8,9,2,3,6,]\n",
    "val = 1\n",
    "result = remove_element(nums, val)\n",
    "print(\"k =\", result)\n",
    "print(\"nums =\", nums[:result], end='')\n",
    "print(\"_\" * (len(nums) - result))"
   ]
  },
  {
   "cell_type": "markdown",
   "id": "1ccdd1f2",
   "metadata": {},
   "source": [
    "# Question 3\n",
    "💡 **Q3.** Given a sorted array of distinct integers and a target value, return the index if the target is found. If not, return the index where it would be if it were inserted in order.\n",
    "\n",
    "You must write an algorithm with O(log n) runtime complexity.\n",
    "\n",
    "**Example 1:**\n",
    "Input: nums = [1,3,5,6], target = 5\n",
    "\n",
    "Output: 2\n",
    "\n",
    "</aside>"
   ]
  },
  {
   "cell_type": "code",
   "execution_count": 13,
   "id": "956dd157",
   "metadata": {},
   "outputs": [],
   "source": [
    "def search_insert(nums, target):\n",
    "    left = 0\n",
    "    right = len(nums) - 1\n",
    "\n",
    "    while left <= right:\n",
    "        mid = (left + right) // 2\n",
    "\n",
    "        if nums[mid] == target:\n",
    "            return mid\n",
    "        elif nums[mid] < target:\n",
    "            left = mid + 1\n",
    "        else:\n",
    "            right = mid - 1\n",
    "\n",
    "    return left"
   ]
  },
  {
   "cell_type": "code",
   "execution_count": 16,
   "id": "1dc10c75",
   "metadata": {},
   "outputs": [
    {
     "name": "stdout",
     "output_type": "stream",
     "text": [
      "2\n"
     ]
    }
   ],
   "source": [
    "# Example usage\n",
    "nums = [1, 3, 5, 6]\n",
    "target = 5\n",
    "result = search_insert(nums, target)\n",
    "print(result)\n"
   ]
  },
  {
   "cell_type": "markdown",
   "id": "99c1248e",
   "metadata": {},
   "source": [
    "Explanation:\n",
    "\n",
    "We initialize two pointers, left and right, which represent the range of indices to search within.\n",
    "We iterate while left is less than or equal to right.\n",
    "In each iteration, we calculate the mid index by taking the average of left and right.\n",
    "If nums[mid] is equal to the target, we found the target and return the mid index.\n",
    "If nums[mid] is less than the target, the target should be in the right half of the remaining array. We update left = mid + 1.\n",
    "If nums[mid] is greater than the target, the target should be in the left half of the remaining array. We update right = mid - 1.\n",
    "If the target is not found after the while loop, we return left as the index where the target would be inserted.\n",
    "In the given example, the target value 5 is found at index 2 in the sorted array [1, 3, 5, 6].\n",
    "\n"
   ]
  },
  {
   "cell_type": "markdown",
   "id": "c664b6c5",
   "metadata": {},
   "source": [
    "# Question 4\n",
    "<aside>\n",
    "💡 **Q4.** You are given a large integer represented as an integer array digits, where each digits[i] is the ith digit of the integer. The digits are ordered from most significant to least significant in left-to-right order. The large integer does not contain any leading 0's.\n",
    "\n",
    "Increment the large integer by one and return the resulting array of digits.\n",
    "\n",
    "**Example 1:**\n",
    "Input: digits = [1,2,3]\n",
    "Output: [1,2,4]\n",
    "\n",
    "**Explanation:** The array represents the integer 123.\n",
    "\n",
    "Incrementing by one gives 123 + 1 = 124.\n",
    "Thus, the result should be [1,2,4].\n",
    "\n",
    "</aside>To increment a large integer represented as an array of digits by one, we need to consider the carry-over when adding 1 to the least significant digit. If there is a carry-over, we propagate it to the more significant digits until we reach a digit that does not result in a carry-over."
   ]
  },
  {
   "cell_type": "code",
   "execution_count": 17,
   "id": "64a8e503",
   "metadata": {},
   "outputs": [],
   "source": [
    "def plus_one(digits):\n",
    "    n = len(digits)\n",
    "\n",
    "    # Iterate from the least significant digit\n",
    "    for i in range(n - 1, -1, -1):\n",
    "        # Increment the current digit by 1\n",
    "        digits[i] += 1\n",
    "        # Check for carry-over\n",
    "        if digits[i] < 10:\n",
    "            return digits\n",
    "        # If there is a carry-over, set the current digit to 0\n",
    "        digits[i] = 0\n",
    "\n",
    "    # If there is still a carry-over after iterating all digits,\n",
    "    # insert a new digit with a value of 1 at the beginning of the array\n",
    "    digits.insert(0, 1)\n",
    "    return digits\n",
    "\n",
    "\n"
   ]
  },
  {
   "cell_type": "code",
   "execution_count": 18,
   "id": "d2c22cab",
   "metadata": {},
   "outputs": [
    {
     "name": "stdout",
     "output_type": "stream",
     "text": [
      "[1, 2, 4]\n"
     ]
    }
   ],
   "source": [
    "# Example usage\n",
    "digits = [1, 2, 3]\n",
    "result = plus_one(digits)\n",
    "print(result)"
   ]
  },
  {
   "cell_type": "code",
   "execution_count": 20,
   "id": "5d1ad8fa",
   "metadata": {},
   "outputs": [
    {
     "name": "stdout",
     "output_type": "stream",
     "text": [
      "[1, 3, 0]\n"
     ]
    }
   ],
   "source": [
    "# Example usage\n",
    "digits = [1, 2, 9]\n",
    "result = plus_one(digits)\n",
    "print(result)"
   ]
  },
  {
   "cell_type": "markdown",
   "id": "6d243ef9",
   "metadata": {},
   "source": [
    "# Question 5\n",
    "<aside>\n",
    "💡 **Q5.** You are given two integer arrays nums1 and nums2, sorted in non-decreasing order, and two integers m and n, representing the number of elements in nums1 and nums2 respectively.\n",
    "\n",
    "Merge nums1 and nums2 into a single array sorted in non-decreasing order.\n",
    "\n",
    "The final sorted array should not be returned by the function, but instead be stored inside the array nums1. To accommodate this, nums1 has a length of m + n, where the first m elements denote the elements that should be merged, and the last n elements are set to 0 and should be ignored. nums2 has a length of n.\n",
    "\n",
    "**Example 1:**\n",
    "Input: nums1 = [1,2,3,0,0,0], m = 3, nums2 = [2,5,6], n = 3\n",
    "Output: [1,2,2,3,5,6]\n",
    "\n",
    "**Explanation:** The arrays we are merging are [1,2,3] and [2,5,6].\n",
    "The result of the meTo merge two sorted arrays, nums1 and nums2, into a single sorted array in non-decreasing order, we can use a modified version of the merge sort algorithm. Since nums1 has extra space at the end to accommodate the merged elements, we can start from the end of both arrays and compare the elements, placing the larger element at the end of nums1. This approach avoids the need for additional space or shifting elements.rge is [1,2,2,3,5,6] with the underlined elements coming from nums1.\n",
    "\n",
    "</aside>"
   ]
  },
  {
   "cell_type": "code",
   "execution_count": 23,
   "id": "f13456de",
   "metadata": {},
   "outputs": [],
   "source": [
    "def merge(nums1, m, nums2, n):\n",
    "    i = m - 1  # Pointer for nums1\n",
    "    j = n - 1  # Pointer for nums2\n",
    "    k = m + n - 1  # Pointer for merged array\n",
    "\n",
    "    while i >= 0 and j >= 0:\n",
    "        if nums1[i] > nums2[j]:\n",
    "            nums1[k] = nums1[i]\n",
    "            i -= 1\n",
    "        else:\n",
    "            nums1[k] = nums2[j]\n",
    "            j -= 1\n",
    "        k -= 1\n",
    "\n",
    "    # If there are remaining elements in nums2, copy them to nums1\n",
    "    while j >= 0:\n",
    "        nums1[k] = nums2[j]\n",
    "        j -= 1\n",
    "        k -= 1\n",
    "\n",
    "    # No need to handle remaining elements in nums1 since they are already in place\n",
    "\n"
   ]
  },
  {
   "cell_type": "code",
   "execution_count": 24,
   "id": "4d01bc51",
   "metadata": {},
   "outputs": [
    {
     "name": "stdout",
     "output_type": "stream",
     "text": [
      "[1, 2, 2, 3, 5, 6]\n"
     ]
    }
   ],
   "source": [
    "# Example usage\n",
    "nums1 = [1, 2, 3, 0, 0, 0]\n",
    "m = 3\n",
    "nums2 = [2, 5, 6]\n",
    "n = 3\n",
    "merge(nums1, m, nums2, n)\n",
    "print(nums1)\n"
   ]
  },
  {
   "cell_type": "code",
   "execution_count": 30,
   "id": "020387a7",
   "metadata": {},
   "outputs": [
    {
     "name": "stdout",
     "output_type": "stream",
     "text": [
      "[6, 0, 2, 3]\n"
     ]
    }
   ],
   "source": [
    "# Example usage\n",
    "nums1 = [2,3,5,4]\n",
    "m = 2\n",
    "nums2 = [6,0,0]\n",
    "n = 2\n",
    "merge(nums1, m, nums2, n)\n",
    "print(nums1)\n"
   ]
  },
  {
   "cell_type": "markdown",
   "id": "1620a728",
   "metadata": {},
   "source": [
    "Explanation:\n",
    "\n",
    "We start with three pointers: i for nums1, j for nums2, and k for the merged array nums1.\n",
    "We iterate while both i and j are greater than or equal to 0.\n",
    "In each iteration, we compare nums1[i] and nums2[j].\n",
    "If nums1[i] is greater, we place it at nums1[k] and decrement i and k.\n",
    "If nums2[j] is greater or equal, we place it at nums1[k] and decrement j and k.\n",
    "After the loop, if there are remaining elements in nums2, we copy them to the beginning of nums1.\n",
    "Since nums1 is already sorted up to index m-1, and the remaining elements from nums2 have been merged into nums1, the final nums1 array contains the merged and sorted elements.\n",
    "In the given example, we merge the arrays [1, 2, 3] and [2, 5, 6] into nums1, resulting in the sorted array [1, 2, 2, 3, 5, 6].\n",
    "\n",
    "\n",
    "\n",
    "\n",
    "\n",
    "\n",
    "# Question 6\n",
    "\n",
    "<aside>\n",
    "💡 Given an integer array nums, return true if any value appears at least twice in the array, and return false if every element is distinct.\n",
    "\n",
    "**Example 1:**\n",
    "Input: nums = [1,2,3,1]\n",
    "\n",
    "Output: true\n",
    "\n",
    "</aside>\n"
   ]
  },
  {
   "cell_type": "code",
   "execution_count": 31,
   "id": "50590379",
   "metadata": {},
   "outputs": [
    {
     "name": "stdout",
     "output_type": "stream",
     "text": [
      "True\n"
     ]
    }
   ],
   "source": [
    "def contains_duplicate(nums):\n",
    "    num_set = set()\n",
    "\n",
    "    for num in nums:\n",
    "        if num in num_set:\n",
    "            return True\n",
    "        num_set.add(num)\n",
    "\n",
    "    return False\n",
    "\n"
   ]
  },
  {
   "cell_type": "code",
   "execution_count": 41,
   "id": "5a05427d",
   "metadata": {},
   "outputs": [
    {
     "name": "stdout",
     "output_type": "stream",
     "text": [
      "True\n"
     ]
    }
   ],
   "source": [
    "# Example usage\n",
    "nums = [1, 2, 3, 1]\n",
    "result = contains_duplicate(nums)\n",
    "print(result)\n"
   ]
  },
  {
   "cell_type": "code",
   "execution_count": 42,
   "id": "ef6dc0f9",
   "metadata": {},
   "outputs": [
    {
     "name": "stdout",
     "output_type": "stream",
     "text": [
      "False\n"
     ]
    }
   ],
   "source": [
    "# Example usage\n",
    "nums = [1, 2, 3,6]\n",
    "result = contains_duplicate(nums)\n",
    "print(result)\n"
   ]
  },
  {
   "cell_type": "markdown",
   "id": "f33cde38",
   "metadata": {},
   "source": [
    "# Question 7\n",
    "\n",
    "\n",
    "<aside>\n",
    "💡 **Q7.** Given an integer array nums, move all 0's to the end of it while maintaining the relative order of the nonzero elements.\n",
    "\n",
    "Note that you must do this in-place without making a copy of the array.\n",
    "\n",
    "**Example 1:**\n",
    "Input: nums = [0,1,0,3,12]\n",
    "Output: [1,3,12,0,0]\n",
    "\n",
    "</aside>"
   ]
  },
  {
   "cell_type": "code",
   "execution_count": 34,
   "id": "3c013a14",
   "metadata": {},
   "outputs": [],
   "source": [
    "def move_zeros(nums):\n",
    "    i = 0  # Pointer for the next non-zero element\n",
    "\n",
    "    # Iterate through the array\n",
    "    \n",
    "    for j in range(len(nums)):\n",
    "        if nums[j] != 0:\n",
    "            # Swap the non-zero element with the element at position i\n",
    "            nums[i], nums[j] = nums[j], nums[i]\n",
    "            i += 1"
   ]
  },
  {
   "cell_type": "code",
   "execution_count": 36,
   "id": "43aa9dfc",
   "metadata": {},
   "outputs": [
    {
     "name": "stdout",
     "output_type": "stream",
     "text": [
      "[1, 3, 12, 0, 0]\n"
     ]
    }
   ],
   "source": [
    "# Example usage\n",
    "nums = [0, 1, 0, 3, 12]\n",
    "move_zeros(nums)\n",
    "print(nums)\n"
   ]
  },
  {
   "cell_type": "code",
   "execution_count": 37,
   "id": "51a6b217",
   "metadata": {},
   "outputs": [
    {
     "name": "stdout",
     "output_type": "stream",
     "text": [
      "[4, 66, 5, 0, 0, 0]\n"
     ]
    }
   ],
   "source": [
    "\n",
    "\n",
    "# Example usage\n",
    "nums = [4,0,0,66,0,5]\n",
    "move_zeros(nums)\n",
    "print(nums)\n"
   ]
  },
  {
   "cell_type": "markdown",
   "id": "67e0c3f0",
   "metadata": {},
   "source": [
    "# Question 8\n",
    "\n",
    "\n",
    "\n",
    "<aside>\n",
    "💡 **Q8.** You have a set of integers s, which originally contains all the numbers from 1 to n. Unfortunately, due to some error, one of the numbers in s got duplicated to another number in the set, which results in repetition of one number and loss of another number.\n",
    "\n",
    "You are given an integer array nums representing the data status of this set after the error.\n",
    "\n",
    "Find the number that occurs twice and the number that is missing and return them in the form of an array.\n",
    "\n",
    "**Example 1:**\n",
    "Input: nums = [1,2,2,4]\n",
    "Output: [2,3]\n",
    "\n",
    "</aside>"
   ]
  },
  {
   "cell_type": "code",
   "execution_count": 38,
   "id": "67a31017",
   "metadata": {},
   "outputs": [],
   "source": [
    "def find_error_nums(nums):\n",
    "    n = len(nums)\n",
    "    num_set = set()\n",
    "    duplicate_num = -1\n",
    "    missing_num = -1\n",
    "\n",
    "    # Find the duplicate number\n",
    "    for num in nums:\n",
    "        if num in num_set:\n",
    "            duplicate_num = num\n",
    "        else:\n",
    "            num_set.add(num)\n",
    "\n",
    "    # Find the missing number\n",
    "    for i in range(1, n + 1):\n",
    "        if i not in num_set:\n",
    "            missing_num = i\n",
    "            break\n",
    "\n",
    "    return [duplicate_num, missing_num]\n"
   ]
  },
  {
   "cell_type": "code",
   "execution_count": 39,
   "id": "26a8093d",
   "metadata": {},
   "outputs": [
    {
     "name": "stdout",
     "output_type": "stream",
     "text": [
      "[2, 3]\n"
     ]
    }
   ],
   "source": [
    "\n",
    "# Example usage\n",
    "nums = [1, 2, 2, 4]\n",
    "result = find_error_nums(nums)\n",
    "print(result)\n"
   ]
  },
  {
   "cell_type": "code",
   "execution_count": 40,
   "id": "53f86ade",
   "metadata": {},
   "outputs": [
    {
     "name": "stdout",
     "output_type": "stream",
     "text": [
      "[4, 7]\n"
     ]
    }
   ],
   "source": [
    "# Example usage\n",
    "nums = [1, 2,3,4,4,5,6]\n",
    "result = find_error_nums(nums)\n",
    "print(result)\n"
   ]
  },
  {
   "cell_type": "code",
   "execution_count": null,
   "id": "bbce0a5c",
   "metadata": {},
   "outputs": [],
   "source": []
  }
 ],
 "metadata": {
  "kernelspec": {
   "display_name": "Python 3 (ipykernel)",
   "language": "python",
   "name": "python3"
  },
  "language_info": {
   "codemirror_mode": {
    "name": "ipython",
    "version": 3
   },
   "file_extension": ".py",
   "mimetype": "text/x-python",
   "name": "python",
   "nbconvert_exporter": "python",
   "pygments_lexer": "ipython3",
   "version": "3.10.9"
  }
 },
 "nbformat": 4,
 "nbformat_minor": 5
}
