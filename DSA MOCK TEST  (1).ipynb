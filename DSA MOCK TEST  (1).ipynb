{
 "cells": [
  {
   "cell_type": "markdown",
   "id": "373d49aa-bff8-453b-8605-f35a15960e70",
   "metadata": {},
   "source": [
    "Move Zeroes\n",
    "Given an integer array nums, move all 0's to the end of it while maintaining the relative order of the non-zero elements.\n",
    "\n",
    "Note that you must do this in-place without making a copy of the array.\n",
    "\n",
    "Example 1:\n",
    "Input: nums = [0,1,0,3,12]\n",
    "Output: [1,3,12,0,0]\n",
    "\n",
    "Example 2:\n",
    "Input: nums = [0]\n",
    "Output: [0]\n",
    "\n",
    "Constraints:\n",
    "a. 1 <= nums.length <= 10^4\n",
    "b. -2^31 <= nums[i] <= 2^31 - 1\n",
    "\n",
    "Note: Create a GitHub file for the solution and add the file link the the answer section below.\n",
    "\n",
    "5 points"
   ]
  },
  {
   "cell_type": "code",
   "execution_count": 1,
   "id": "b436e80f-3ac9-4e96-8ddc-50ffd30d7c33",
   "metadata": {},
   "outputs": [
    {
     "name": "stdout",
     "output_type": "stream",
     "text": [
      "[1, 3, 12, 0, 0]\n"
     ]
    }
   ],
   "source": [
    "def moveZeroes(nums):\n",
    "    \"\"\"\n",
    "    Moves all zeros to the end of the given integer array while maintaining the relative order of the non-zero elements.\n",
    "    \"\"\"\n",
    "    n = len(nums)\n",
    "    # Initialize two pointers\n",
    "    left = 0  # Points to the current non-zero element\n",
    "    right = 0  # Points to the next position to be filled with a non-zero element\n",
    "\n",
    "    # Traverse the array\n",
    "    while right < n:\n",
    "        # If the current element is non-zero, swap it with the element at the \"left\" pointer\n",
    "        if nums[right] != 0:\n",
    "            nums[left], nums[right] = nums[right], nums[left]\n",
    "            left += 1  # Move the \"left\" pointer forward\n",
    "        right += 1  # Move the \"right\" pointer forward\n",
    "\n",
    "# Test the function\n",
    "nums = [0, 1, 0, 3, 12]\n",
    "moveZeroes(nums)\n",
    "print(nums)  # Output: [1, 3, 12, 0, 0]\n"
   ]
  },
  {
   "cell_type": "markdown",
   "id": "88acf21e-d747-45c9-a610-02ff7f2d2d7d",
   "metadata": {},
   "source": [
    "First Unique Character in a String\n",
    "\n",
    "Given a string s, find the first non-repeating character in it and return its index. If it does not exist, return -1.\n",
    "\n",
    "Example 1:\n",
    "Input: s = \"leetcode\"\n",
    "Output: 0\n",
    "\n",
    "Example 2:\n",
    "Input: s = \"loveleetcode\"\n",
    "Output: 2\n",
    "\n",
    "Example 3:\n",
    "Input: s = \"aabb\"\n",
    "Output: -1\n",
    "\n",
    "Constraints:\n",
    "a. 1 <= s.length <= 10^5\n",
    "b. s consists of only lowercase English letters.\n",
    "\n",
    "Note: Create a GitHub file for the solution and add the file link the the answer section below."
   ]
  },
  {
   "cell_type": "code",
   "execution_count": 2,
   "id": "553e4ae0-5860-4dc0-821e-39f37fd26c23",
   "metadata": {},
   "outputs": [
    {
     "name": "stdout",
     "output_type": "stream",
     "text": [
      "0\n",
      "2\n",
      "-1\n"
     ]
    }
   ],
   "source": [
    "def firstUniqChar(s):\n",
    "    \"\"\"\n",
    "    Finds the index of the first non-repeating character in the given string s.\n",
    "    Returns -1 if no such character exists.\n",
    "    \"\"\"\n",
    "    # Count the occurrences of each character using a hash map\n",
    "    char_count = {}\n",
    "    for char in s:\n",
    "        char_count[char] = char_count.get(char, 0) + 1\n",
    "\n",
    "    # Find the first non-repeating character\n",
    "    for i in range(len(s)):\n",
    "        if char_count[s[i]] == 1:\n",
    "            return i\n",
    "\n",
    "    return -1\n",
    "\n",
    "# Test the function\n",
    "s = \"leetcode\"\n",
    "print(firstUniqChar(s))  # Output: 0\n",
    "\n",
    "s = \"loveleetcode\"\n",
    "print(firstUniqChar(s))  # Output: 2\n",
    "\n",
    "s = \"aabb\"\n",
    "print(firstUniqChar(s))  # Output: -1\n"
   ]
  },
  {
   "cell_type": "code",
   "execution_count": null,
   "id": "c7cfffd9-050f-4ce8-854d-1ecdffdeb98b",
   "metadata": {},
   "outputs": [],
   "source": []
  }
 ],
 "metadata": {
  "kernelspec": {
   "display_name": "Python 3 (ipykernel)",
   "language": "python",
   "name": "python3"
  },
  "language_info": {
   "codemirror_mode": {
    "name": "ipython",
    "version": 3
   },
   "file_extension": ".py",
   "mimetype": "text/x-python",
   "name": "python",
   "nbconvert_exporter": "python",
   "pygments_lexer": "ipython3",
   "version": "3.10.6"
  }
 },
 "nbformat": 4,
 "nbformat_minor": 5
}
